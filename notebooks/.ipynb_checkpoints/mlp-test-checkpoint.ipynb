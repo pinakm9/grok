{
 "cells": [
  {
   "cell_type": "code",
   "execution_count": null,
   "id": "9e567c2a-b12f-445a-9532-f9e770bf90e8",
   "metadata": {},
   "outputs": [
    {
     "name": "stdout",
     "output_type": "stream",
     "text": [
      "{'loss_function': 'MSE', 'save_folder': '../data/mnist/mlp-3-200/zero/dist', 'batch_size': 64, 'learning_rate': 0.001, 'weight_decay': 0.01, 'optimization_steps': 100000, 'log_freq': 100}\n"
     ]
    },
    {
     "data": {
      "application/vnd.jupyter.widget-view+json": {
       "model_id": "90e47bf04cc646cca6f87ec5caa790a6",
       "version_major": 2,
       "version_minor": 0
      },
      "text/plain": [
       "  0%|          | 0/100000 [00:00<?, ?it/s]"
      ]
     },
     "metadata": {},
     "output_type": "display_data"
    }
   ],
   "source": [
    "# load necessary modules\n",
    "import numpy as np \n",
    "from scipy.integrate import odeint\n",
    "import os, sys \n",
    "from pathlib import Path\n",
    "from os.path import dirname, realpath\n",
    "script_dir = Path(dirname(realpath('.')))\n",
    "module_dir = str(script_dir)\n",
    "sys.path.insert(0, module_dir + '/modules')\n",
    "import mlp, math\n",
    "import torch\n",
    "import torch.nn as nn\n",
    "from torchsummary import summary\n",
    "import torchvision \n",
    "from itertools import islice\n",
    "import mnist\n",
    "from torchvision import transforms as ts\n",
    "\n",
    "download_directory = '../data/mnist'\n",
    "depth, width = 3, 200\n",
    "\n",
    "dist_dict = {'su': 'standard_uniform', 'sn': 'standard_normal', 'xu': 'xavier_uniform', 'xn': 'xavier_normal'}\n",
    "\n",
    "# experiment identifier\n",
    "architecture = f'mlp-{depth}-{width}'\n",
    "start = f'zero'\n",
    "alpha = 10\n",
    "dist_id = 'xu' \n",
    "dist = f'all-{dist_id}-{alpha}'\n",
    "save_folder = f'../data/mnist/{architecture}/{start}/{dist}'\n",
    "\n",
    "device = torch.device('cuda:0' if torch.cuda.is_available() else 'cpu')\n",
    "optimization_steps = 100000\n",
    "log_freq = 100\n",
    "# load dataset\n",
    "train = torchvision.datasets.MNIST(root=download_directory, train=True, transform=torchvision.transforms.ToTensor(), download=False)\n",
    "test = torchvision.datasets.MNIST(root=download_directory, train=False, transform=torchvision.transforms.ToTensor(), download=False)\n",
    "\n",
    "\n",
    "net = mlp.MLP(depth, width, 784, 10)\n",
    "net.re_init([1, 2, 3], dist_dict[dist_id], alpha)\n",
    "net.learn(mnist, train, test, loss_function='MSE', device=device, save_folder=save_folder, weight_decay=1e-2,\\\n",
    "          optimization_steps=optimization_steps, batch_size=64, log_freq=log_freq)"
   ]
  },
  {
   "cell_type": "code",
   "execution_count": 20,
   "id": "a15b71f9-248a-4c69-930a-98a6ba5c53fc",
   "metadata": {},
   "outputs": [
    {
     "name": "stdout",
     "output_type": "stream",
     "text": [
      "tensor(1.0000)\n"
     ]
    }
   ],
   "source": [
    "# Define the shape of the tensor\n",
    "shape = (208, 100)\n",
    "\n",
    "# Create a tensor filled with zeros\n",
    "tensor = torch.zeros(shape)\n",
    "\n",
    "# Initialize the tensor using Glorot uniform initialization\n",
    "nn.init.xavier_normal_(tensor)\n",
    "\n",
    "print(torch.linalg.norm(tensor/torch.linalg.norm(tensor)))"
   ]
  },
  {
   "cell_type": "code",
   "execution_count": 19,
   "id": "a344ed2c-4cc9-44c0-aa25-8a8930da7616",
   "metadata": {},
   "outputs": [
    {
     "data": {
      "text/plain": [
       "torch.float32"
      ]
     },
     "execution_count": 19,
     "metadata": {},
     "output_type": "execute_result"
    }
   ],
   "source": [
    "net.hidden[-1].weight.dtype"
   ]
  },
  {
   "cell_type": "code",
   "execution_count": 4,
   "id": "8912c708-a7bd-420e-aebf-53fc342070c4",
   "metadata": {},
   "outputs": [
    {
     "data": {
      "text/plain": [
       "tensor([[ 0.1366,  0.2946,  0.4762,  0.5481, -0.6822],\n",
       "        [-0.2726,  0.3101,  0.6530,  0.0578,  1.0401],\n",
       "        [-2.0029, -0.1530,  0.3312,  0.2375, -1.6871],\n",
       "        [-1.2877,  0.0608, -0.9288,  1.4429,  0.9075]])"
      ]
     },
     "execution_count": 4,
     "metadata": {},
     "output_type": "execute_result"
    }
   ],
   "source": [
    "torch.randn(size=(4, 5), dtype=torch.float32)"
   ]
  },
  {
   "cell_type": "code",
   "execution_count": null,
   "id": "9de7d46a-8d85-4c2a-b096-b3ba794907f0",
   "metadata": {},
   "outputs": [],
   "source": []
  }
 ],
 "metadata": {
  "kernelspec": {
   "display_name": "Python 3 (ipykernel)",
   "language": "python",
   "name": "python3"
  },
  "language_info": {
   "codemirror_mode": {
    "name": "ipython",
    "version": 3
   },
   "file_extension": ".py",
   "mimetype": "text/x-python",
   "name": "python",
   "nbconvert_exporter": "python",
   "pygments_lexer": "ipython3",
   "version": "3.11.5"
  }
 },
 "nbformat": 4,
 "nbformat_minor": 5
}
