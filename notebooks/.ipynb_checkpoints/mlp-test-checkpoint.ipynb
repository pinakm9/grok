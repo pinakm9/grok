{
 "cells": [
  {
   "cell_type": "code",
   "execution_count": null,
   "id": "9e567c2a-b12f-445a-9532-f9e770bf90e8",
   "metadata": {},
   "outputs": [
    {
     "name": "stdout",
     "output_type": "stream",
     "text": [
      "{'loss_function': 'MSE', 'save_folder': '../data/mnist/mlp-2-200/zero/all-xu-None', 'batch_size': 50, 'learning_rate': 0.001, 'weight_decay': 0.01, 'optimization_steps': 100000, 'log_freq': 500}\n"
     ]
    },
    {
     "data": {
      "application/vnd.jupyter.widget-view+json": {
       "model_id": "0b62b9003f2c44408718b362a9df9330",
       "version_major": 2,
       "version_minor": 0
      },
      "text/plain": [
       "  0%|          | 0/100000 [00:00<?, ?it/s]"
      ]
     },
     "metadata": {},
     "output_type": "display_data"
    }
   ],
   "source": [
    "# load necessary modules\n",
    "import numpy as np \n",
    "from scipy.integrate import odeint\n",
    "import os, sys \n",
    "from pathlib import Path\n",
    "from os.path import dirname, realpath\n",
    "script_dir = Path(dirname(realpath('.')))\n",
    "module_dir = str(script_dir)\n",
    "sys.path.insert(0, module_dir + '/modules')\n",
    "import mlp, math\n",
    "import torch\n",
    "import torch.nn as nn\n",
    "from torchsummary import summary\n",
    "import torchvision \n",
    "from itertools import islice\n",
    "import mnist\n",
    "from torchvision import transforms as ts\n",
    "\n",
    "download_directory = '../data/mnist'\n",
    "depth, width = 2, 200\n",
    "\n",
    "dist_dict = {'su': 'standard_uniform', 'sn': 'standard_normal', 'xu': 'xavier_uniform', 'xn': 'xavier_normal', None: 'none'}\n",
    "\n",
    "# experiment identifier\n",
    "architecture = f'mlp-{depth}-{width}'\n",
    "start = f'zero'\n",
    "alpha = None\n",
    "dist_id = 'xu' \n",
    "dist = f'all-{dist_id}-{alpha}'\n",
    "save_folder = f'../data/mnist/{architecture}/{start}/{dist}'\n",
    "\n",
    "device = torch.device('cuda:0' if torch.cuda.is_available() else 'cpu')\n",
    "optimization_steps = 100000\n",
    "log_freq = math.ceil(optimization_steps/200)\n",
    "# load dataset\n",
    "train = torchvision.datasets.MNIST(root=download_directory, train=True, transform=torchvision.transforms.ToTensor(), download=False)\n",
    "test = torchvision.datasets.MNIST(root=download_directory, train=False, transform=torchvision.transforms.ToTensor(), download=False)\n",
    "\n",
    "\n",
    "net = mlp.MLP(depth, width, 784, 10)\n",
    "net.re_init([1, 2], dist_dict[dist_id], alpha)\n",
    "net.learn(mnist, train, test, loss_function='MSE', device=device, save_folder=save_folder, weight_decay=1e-2,\\\n",
    "          optimization_steps=optimization_steps, batch_size=50, log_freq=log_freq)"
   ]
  },
  {
   "cell_type": "code",
   "execution_count": null,
   "id": "935e6259-e3aa-4f18-aaf6-64492a16cb6d",
   "metadata": {},
   "outputs": [],
   "source": []
  }
 ],
 "metadata": {
  "kernelspec": {
   "display_name": "Python 3 (ipykernel)",
   "language": "python",
   "name": "python3"
  },
  "language_info": {
   "codemirror_mode": {
    "name": "ipython",
    "version": 3
   },
   "file_extension": ".py",
   "mimetype": "text/x-python",
   "name": "python",
   "nbconvert_exporter": "python",
   "pygments_lexer": "ipython3",
   "version": "3.11.5"
  }
 },
 "nbformat": 4,
 "nbformat_minor": 5
}
